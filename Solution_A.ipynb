{
  "nbformat": 4,
  "nbformat_minor": 0,
  "metadata": {
    "colab": {
      "provenance": [],
      "mount_file_id": "1YYIzuJZcw8KLgdH0H5qot9QCWN0zmxjE",
      "authorship_tag": "ABX9TyOrDHNXkEJT6B78/GwdInT9",
      "include_colab_link": true
    },
    "kernelspec": {
      "name": "python3",
      "display_name": "Python 3"
    },
    "language_info": {
      "name": "python"
    }
  },
  "cells": [
    {
      "cell_type": "markdown",
      "metadata": {
        "id": "view-in-github",
        "colab_type": "text"
      },
      "source": [
        "<a href=\"https://colab.research.google.com/github/ruth-chirinos/Internal_MIA/blob/main/Solution_A.ipynb\" target=\"_parent\"><img src=\"https://colab.research.google.com/assets/colab-badge.svg\" alt=\"Open In Colab\"/></a>"
      ]
    },
    {
      "cell_type": "markdown",
      "source": [
        "# Solution_A\n",
        "https://www.kaggle.com/code/matteofasuloo/user-item-alternating-least-squares"
      ],
      "metadata": {
        "id": "qO1dY_gdoQPv"
      }
    },
    {
      "cell_type": "code",
      "execution_count": 1,
      "metadata": {
        "colab": {
          "base_uri": "https://localhost:8080/"
        },
        "id": "qcEtsfD4mBdm",
        "outputId": "6dc0a047-15fc-433f-8a23-d9e588332601"
      },
      "outputs": [
        {
          "output_type": "stream",
          "name": "stdout",
          "text": [
            "Looking in indexes: https://pypi.org/simple, https://us-python.pkg.dev/colab-wheels/public/simple/\n",
            "Collecting implicit\n",
            "  Downloading implicit-0.6.2-cp38-cp38-manylinux2014_x86_64.whl (18.6 MB)\n",
            "\u001b[2K     \u001b[90m━━━━━━━━━━━━━━━━━━━━━━━━━━━━━━━━━━━━━━━━\u001b[0m \u001b[32m18.6/18.6 MB\u001b[0m \u001b[31m35.4 MB/s\u001b[0m eta \u001b[36m0:00:00\u001b[0m\n",
            "\u001b[?25hRequirement already satisfied: numpy in /usr/local/lib/python3.8/dist-packages (from implicit) (1.21.6)\n",
            "Requirement already satisfied: scipy>=0.16 in /usr/local/lib/python3.8/dist-packages (from implicit) (1.7.3)\n",
            "Requirement already satisfied: tqdm>=4.27 in /usr/local/lib/python3.8/dist-packages (from implicit) (4.64.1)\n",
            "Installing collected packages: implicit\n",
            "Successfully installed implicit-0.6.2\n"
          ]
        },
        {
          "output_type": "stream",
          "name": "stderr",
          "text": [
            "/usr/local/lib/python3.8/dist-packages/implicit/gpu/__init__.py:13: UserWarning: CUDA extension is built, but disabling GPU support because of 'Cuda Error: no CUDA-capable device is detected (/project/./implicit/gpu/utils.h:71)'\n",
            "  warnings.warn(\n"
          ]
        }
      ],
      "source": [
        "correct = False\n",
        "while not correct:\n",
        "    %pip install -U implicit\n",
        "    import pandas as pd\n",
        "    import numpy as np\n",
        "    from scipy.sparse import coo_matrix\n",
        "    from implicit.als import AlternatingLeastSquares\n",
        "    from implicit.evaluation import mean_average_precision_at_k\n",
        "    import matplotlib.image as mpimg\n",
        "    import matplotlib.pyplot as plt\n",
        "    correct = True\n",
        "  "
      ]
    },
    {
      "cell_type": "code",
      "source": [
        "PATH = \"../input/h-and-m-personalized-fashion-recommendations/\"\n",
        "articles = pd.read_csv(f\"{PATH}articles.csv\", encoding=\"utf-8\", dtype={'article_id': str})\n",
        "customers = pd.read_csv(f\"{PATH}customers.csv\", encoding=\"utf-8\")\n",
        "tx = pd.read_csv(f\"{PATH}transactions_train.csv\", encoding=\"utf-8\", dtype={'article_id': str}, parse_dates=['t_dat'])"
      ],
      "metadata": {
        "id": "8FAI9XQgoZbt"
      },
      "execution_count": null,
      "outputs": []
    },
    {
      "cell_type": "code",
      "source": [
        "USERS = customers.customer_id.unique().tolist()\n",
        "ITEMS = articles.article_id.unique().tolist()\n",
        "\n",
        "USER_IDS = dict(list(enumerate(USERS)))\n",
        "ITEM_IDS = dict(list(enumerate(ITEMS)))\n",
        "\n",
        "USER_MAP = {u: uidx for uidx, u in USER_IDS.items()}\n",
        "ITEM_MAP = {i: iidx for iidx, i in ITEM_IDS.items()}\n",
        "\n",
        "tx['user_id'] = tx['customer_id'].map(USER_MAP)\n",
        "tx['item_id'] = tx['article_id'].map(ITEM_MAP)"
      ],
      "metadata": {
        "id": "6GRIuTtaoeeS"
      },
      "execution_count": null,
      "outputs": []
    },
    {
      "cell_type": "code",
      "source": [
        "def pd_to_coo_matrix(df):\n",
        "    row = df['user_id'].values\n",
        "    col = df['item_id'].values\n",
        "    data = np.ones(df.shape[0])\n",
        "    coo = coo_matrix((data, (row, col)), shape=(len(USERS), len(ITEMS)))\n",
        "    return coo\n",
        "\n",
        "def train_val_split(df, days=7):\n",
        "    validation_cut = df['t_dat'].max() - pd.Timedelta(days)\n",
        "\n",
        "    df_train = df[df['t_dat'] < validation_cut]\n",
        "    df_val = df[df['t_dat'] >= validation_cut]\n",
        "    return df_train, df_val\n",
        "\n",
        "def matrix_maker(df, days=7):\n",
        "    df_train, df_val = train_val_split(df, days=days)\n",
        "    coo_train = pd_to_coo_matrix(df_train)\n",
        "    coo_val = pd_to_coo_matrix(df_val)\n",
        "\n",
        "    csr_train = coo_train.tocsr()\n",
        "    csr_val = coo_val.tocsr()\n",
        "    \n",
        "    return {'coo_train': coo_train,\n",
        "            'csr_train': csr_train,\n",
        "            'csr_val': csr_val}\n",
        "\n",
        "def validate(matrices, factors=200, iterations=20, regularization=0.01, show_progress=True):\n",
        "    coo_train = matrices['coo_train']\n",
        "    csr_train = matrices['csr_train']\n",
        "    csr_val = matrices['csr_val']\n",
        "    \n",
        "    model = AlternatingLeastSquares(\n",
        "        factors=factors,\n",
        "        iterations=iterations, \n",
        "        regularization=regularization, \n",
        "        use_gpu=True,\n",
        "        random_state=12345)\n",
        "        \n",
        "    model.fit(coo_train, show_progress=show_progress)\n",
        "    \n",
        "    map12 = mean_average_precision_at_k(model, csr_train, csr_val, K=12, show_progress=show_progress)\n",
        "    print(f\"Factors: {factors:>3} - Iterations: {iterations:>2} - Regularization: {regularization:4.3f} ==> MAP@12: {map12:6.5f}\")\n",
        "    return map12"
      ],
      "metadata": {
        "id": "FhW6ScMyo0lH"
      },
      "execution_count": null,
      "outputs": []
    },
    {
      "cell_type": "code",
      "source": [
        "matrices = matrix_maker(tx)"
      ],
      "metadata": {
        "id": "HBvUtIWapVHA"
      },
      "execution_count": null,
      "outputs": []
    },
    {
      "cell_type": "code",
      "source": [
        "\"\"\"\n",
        "Best parameters are:\n",
        "\n",
        "    factors: 60\n",
        "    iterations: 12\n",
        "    regularitazion: 0.01\n",
        "\n",
        "The time needed in order to find the best parameters is:\n",
        "\n",
        "    CPU times: user 42min 22s, \n",
        "    sys: 11.4 s, total: 42min 34s\n",
        "    Wall time: 42min 43s\n",
        "\n",
        "Since ALS allows a random state parameter, this cell will be skipped\n",
        "\"\"\"\n",
        "\n",
        "best_params = {'factors': 60, 'iterations': 12, 'regularization': 0.01}\n",
        "\n",
        "if not best_params:\n",
        "    %%time\n",
        "    best_map12 = 0\n",
        "    for factors in [40, 50, 60, 100, 200, 500, 1000]:\n",
        "        for iterations in [3, 12, 14, 15, 20]:\n",
        "            for regularization in [0.01]:\n",
        "                map12 = validate(matrices, factors, iterations, regularization, show_progress=False)\n",
        "                if map12 > best_map12:\n",
        "                    best_map12 = map12\n",
        "                    best_params = {'factors': factors, 'iterations': iterations, 'regularization': regularization}\n",
        "                    print(f\"Best MAP@12 found. Updating: {best_params}\")"
      ],
      "metadata": {
        "id": "nchep88tpZQV"
      },
      "execution_count": null,
      "outputs": []
    },
    {
      "cell_type": "code",
      "source": [
        "coo_train = pd_to_coo_matrix(tx)\n",
        "csr_train = coo_train.tocsr()"
      ],
      "metadata": {
        "id": "cGIwj3dypeFz"
      },
      "execution_count": null,
      "outputs": []
    },
    {
      "cell_type": "code",
      "source": [
        "def train(coo_train, factors, iterations, regularization, show_progress=True):\n",
        "    model = AlternatingLeastSquares(\n",
        "        factors=factors, \n",
        "        iterations=iterations, \n",
        "        regularization=regularization,\n",
        "        use_gpu=True,\n",
        "        random_state=12345)\n",
        "        \n",
        "    model.fit(coo_train, show_progress=show_progress)\n",
        "    return model"
      ],
      "metadata": {
        "id": "n4DRHz5xplpx"
      },
      "execution_count": null,
      "outputs": []
    },
    {
      "cell_type": "code",
      "source": [
        "model = train(coo_train, **best_params)"
      ],
      "metadata": {
        "id": "HTfxQG7CpqMC"
      },
      "execution_count": null,
      "outputs": []
    },
    {
      "cell_type": "code",
      "source": [
        "def submit(model, csr_train, submission_name=\"submissions.csv\"):\n",
        "    preds = []\n",
        "    batch_size = 2000\n",
        "    to_generate = np.arange(len(USERS)/10)\n",
        "    for startidx in range(0, len(to_generate), batch_size):\n",
        "        batch = to_generate[startidx : startidx + batch_size]\n",
        "        ids, scores = model.recommend(batch, csr_train[batch], N=12, filter_already_liked_items=True)\n",
        "        for i, userid in enumerate(batch):\n",
        "            customer_id = USER_IDS[userid]\n",
        "            user_items = ids[i]\n",
        "            article_ids = [ITEM_IDS[item_id] for item_id in user_items]\n",
        "            preds.append((customer_id, ' '.join(article_ids), scores[i]))\n",
        "\n",
        "    df_preds = pd.DataFrame(preds, columns=['customer_id', 'prediction', 'scores'])\n",
        "    df_preds.to_csv(submission_name, index=False)\n",
        "    \n",
        "    display(df_preds.head())\n",
        "    print(df_preds.shape)\n",
        "    \n",
        "    return df_preds"
      ],
      "metadata": {
        "id": "p8OKer_vpsjm"
      },
      "execution_count": null,
      "outputs": []
    },
    {
      "cell_type": "code",
      "source": [
        "%%time\n",
        "df_preds = submit(model, csr_train)"
      ],
      "metadata": {
        "id": "3Hkci9YspvuZ"
      },
      "execution_count": null,
      "outputs": []
    },
    {
      "cell_type": "code",
      "source": [
        "\"\"\"\n",
        "Let's check what our recommendations are for first customer.\n",
        "\n",
        "First we will take the customer_id and then acquire what he has bought in the past\n",
        "\"\"\"\n",
        "def customer_bought_suggested(ID: int):\n",
        "    customer_ID = df_preds.customer_id[ID]\n",
        "    items_bought = tx.loc[tx['customer_id'] == customer_ID].article_id.unique().tolist()\n",
        "    items_suggested = df_preds.prediction[ID].split()\n",
        "    scores = df_preds.scores[ID]\n",
        "    return customer_ID, items_bought, items_suggested, scores\n",
        "\n",
        "def bought_suggest(ID, rows=2, columns=12, figsize=(20,10)):\n",
        "    customer_ID, items_bought, items_suggested, scores = customer_bought_suggested(ID)\n",
        "\n",
        "    f, ax = plt.subplots(rows, columns, figsize=figsize)\n",
        "    for i in range(rows):\n",
        "        index = 0\n",
        "        for j in range(columns):\n",
        "            if i==0:\n",
        "                try:\n",
        "                    img = mpimg.imread(f'{PATH}images/{str(items_bought[index])[:3]}/0{int(items_bought[index])}.jpg')\n",
        "                    ax[i,j].imshow(img)\n",
        "                    ax[i,j].set_xticks([], [])\n",
        "                    ax[i,j].set_yticks([], [])\n",
        "                    ax[i,j].grid(False)\n",
        "                    ax[i,j].set_title(\"Bought\")\n",
        "                    index += 1\n",
        "                except IndexError:\n",
        "                    continue\n",
        "            else:\n",
        "                try:\n",
        "                    img = mpimg.imread(f'{PATH}images/{str(items_suggested[index])[:3]}/0{int(items_suggested[index])}.jpg')\n",
        "                    ax[i,j].imshow(img)\n",
        "                    ax[i,j].set_xticks([], [])\n",
        "                    ax[i,j].set_yticks([], [])\n",
        "                    ax[i,j].grid(False)\n",
        "                    ax[i,j].set_title(\"Suggested\")\n",
        "                    ax[i,j].set(xlabel=f'Score: {scores[index]:.4f}')\n",
        "                    index += 1\n",
        "                except IndexError:\n",
        "                    continue\n",
        "                        \n",
        "    #plt.suptitle(\"Item bought in the past\")\n",
        "    plt.tight_layout()\n",
        "    plt.show()"
      ],
      "metadata": {
        "id": "TEa2udeqpyG_"
      },
      "execution_count": null,
      "outputs": []
    },
    {
      "cell_type": "code",
      "source": [
        "\"\"\"\n",
        "Starting from the products purchased in the past, the model suggests 10 items sorted by decreasing score (where the first is the most recommended)\n",
        "\"\"\"\n",
        "bought_suggest(ID=1024)"
      ],
      "metadata": {
        "id": "zECLx8Upp2Cn"
      },
      "execution_count": null,
      "outputs": []
    }
  ]
}