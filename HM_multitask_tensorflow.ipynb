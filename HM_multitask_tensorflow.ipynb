{
  "cells": [
    {
      "cell_type": "markdown",
      "metadata": {
        "id": "view-in-github",
        "colab_type": "text"
      },
      "source": [
        "<a href=\"https://colab.research.google.com/github/ruth-chirinos/Internal_MIA/blob/main/HM_multitask_tensorflow.ipynb\" target=\"_parent\"><img src=\"https://colab.research.google.com/assets/colab-badge.svg\" alt=\"Open In Colab\"/></a>"
      ]
    },
    {
      "cell_type": "markdown",
      "metadata": {
        "id": "X80i_girFR2o"
      },
      "source": [
        "##### Copyright 2020 The TensorFlow Authors."
      ]
    },
    {
      "cell_type": "code",
      "execution_count": null,
      "metadata": {
        "cellView": "form",
        "id": "bB8gHCR3FVC0"
      },
      "outputs": [],
      "source": [
        "#@title Licensed under the Apache License, Version 2.0 (the \"License\");\n",
        "# you may not use this file except in compliance with the License.\n",
        "# You may obtain a copy of the License at\n",
        "#\n",
        "# https://www.apache.org/licenses/LICENSE-2.0\n",
        "#\n",
        "# Unless required by applicable law or agreed to in writing, software\n",
        "# distributed under the License is distributed on an \"AS IS\" BASIS,\n",
        "# WITHOUT WARRANTIES OR CONDITIONS OF ANY KIND, either express or implied.\n",
        "# See the License for the specific language governing permissions and\n",
        "# limitations under the License."
      ]
    },
    {
      "cell_type": "markdown",
      "metadata": {
        "id": "kCeYA79m1DEX"
      },
      "source": [
        "# Multi-task recommenders\n",
        "\n",
        "<table class=\"tfo-notebook-buttons\" align=\"left\">\n",
        "  <td>\n",
        "    <a target=\"_blank\" href=\"https://www.tensorflow.org/recommenders/examples/multitask\"><img src=\"https://www.tensorflow.org/images/tf_logo_32px.png\" />View on TensorFlow.org</a>\n",
        "  </td>\n",
        "  <td>\n",
        "    <a target=\"_blank\" href=\"https://colab.research.google.com/github/tensorflow/recommenders/blob/main/docs/examples/multitask.ipynb\"><img src=\"https://www.tensorflow.org/images/colab_logo_32px.png\" />Run in Google Colab</a>\n",
        "  </td>\n",
        "  <td>\n",
        "    <a target=\"_blank\" href=\"https://github.com/tensorflow/recommenders/blob/main/docs/examples/multitask.ipynb\"><img src=\"https://www.tensorflow.org/images/GitHub-Mark-32px.png\" />View source on GitHub</a>\n",
        "  </td>\n",
        "  <td>\n",
        "    <a href=\"https://storage.googleapis.com/tensorflow_docs/recommenders/docs/examples/multitask.ipynb\"><img src=\"https://www.tensorflow.org/images/download_logo_32px.png\" />Download notebook</a>\n",
        "  </td>\n",
        "</table>"
      ]
    },
    {
      "cell_type": "markdown",
      "metadata": {
        "id": "Dk8QEc4sIPMi"
      },
      "source": [
        "In the [basic retrieval tutorial](basic_retrieval) we built a retrieval system using movie watches as positive interaction signals.\n",
        "\n",
        "In many applications, however, there are multiple rich sources of feedback to draw upon. For example, an e-commerce site may record user visits to product pages (abundant, but relatively low signal), image clicks, adding to cart, and, finally, purchases. It may even record post-purchase signals such as reviews and returns.\n",
        "\n",
        "Integrating all these different forms of feedback is critical to building systems that users love to use, and that do not optimize for any one metric at the expense of overall performance.\n",
        "\n",
        "In addition, building a joint model for multiple tasks may produce better results than building a number of task-specific models. This is especially true where some data is abundant (for example, clicks), and some data is sparse (purchases, returns, manual reviews). In those scenarios, a joint model may be able to use representations learned from the abundant task to improve its predictions on the sparse task via a phenomenon known as [transfer learning](https://en.wikipedia.org/wiki/Transfer_learning). For example, [this paper](https://openreview.net/pdf?id=SJxPVcSonN) shows that a model predicting explicit user ratings from sparse user surveys can be substantially improved by adding an auxiliary task that uses abundant click log data.\n",
        "\n",
        "In this tutorial, we are going to build a multi-objective recommender for Movielens, using both implicit (movie watches) and explicit signals (ratings)."
      ]
    },
    {
      "cell_type": "markdown",
      "metadata": {
        "id": "ZwrcZeK7x7xI"
      },
      "source": [
        "## Imports\n",
        "\n",
        "\n",
        "Let's first get our imports out of the way.\n"
      ]
    },
    {
      "cell_type": "code",
      "execution_count": null,
      "metadata": {
        "id": "izzoRqkGb2Zc"
      },
      "outputs": [],
      "source": [
        "!pip install -q tensorflow-recommenders\n",
        "!pip install -q --upgrade tensorflow-datasets"
      ]
    },
    {
      "cell_type": "markdown",
      "source": [],
      "metadata": {
        "id": "-GG5GpFVXD5l"
      }
    },
    {
      "cell_type": "code",
      "execution_count": null,
      "metadata": {
        "id": "SZGYDaF-m5wZ"
      },
      "outputs": [],
      "source": [
        "import os\n",
        "import pprint\n",
        "import tempfile\n",
        "\n",
        "from typing import Dict, Text\n",
        "\n",
        "import numpy as np\n",
        "import tensorflow as tf\n",
        "import tensorflow_datasets as tfds\n",
        "import tensorflow_recommenders as tfrs\n",
        "from sklearn.model_selection import train_test_split\n",
        "import pandas as pd\n",
        "import numpy as np\n",
        "from sklearn.metrics.pairwise import cosine_similarity\n",
        "import datetime\n",
        "from sklearn.preprocessing import LabelEncoder"
      ]
    },
    {
      "cell_type": "markdown",
      "source": [
        "# H&M Group\n"
      ],
      "metadata": {
        "id": "34nbTmAOJZqb"
      }
    },
    {
      "cell_type": "code",
      "source": [
        "\n",
        "# Load datasets\n",
        "#base_path_data_example = \"/Users/rchirinos-macbook/Documents/Boss/MIA/TFM2023/PythonProject/SimilarProjects/HM-CreateDatasetSamples\"\n",
        "#base_path_global = \"/Users/rchirinos-macbook/Documents/Boss/MIA/TFM2023/PythonProject/data\"\n",
        "\n",
        "transactions = pd.read_csv('transactions_train_sample00001.csv')\n",
        "articles_total = pd.read_csv('articles.csv')\n",
        "\n",
        "#transactions = tfds.load('transactions_train_sample00001.csv')\n",
        "#articles_total = tfds.load('articles.csv')\n",
        "\n",
        "print('QTY of transactions '+str(len(transactions)))\n",
        "print('QTY of articles_total '+str(len(articles_total)))\n"
      ],
      "metadata": {
        "id": "QeQd5QonJZxN"
      },
      "execution_count": null,
      "outputs": []
    },
    {
      "cell_type": "code",
      "source": [
        "# Merge datasets based on article_id\n",
        "merged_df = pd.merge(transactions, articles_total, on='article_id', how='left')\n",
        "print('QTY of merged '+str(len(merged_df)))"
      ],
      "metadata": {
        "id": "o8xTb1XYgJw4"
      },
      "execution_count": null,
      "outputs": []
    },
    {
      "cell_type": "code",
      "source": [
        "merged_df.info()"
      ],
      "metadata": {
        "id": "qNyCZrcoX8Ym"
      },
      "execution_count": null,
      "outputs": []
    },
    {
      "cell_type": "code",
      "source": [
        "merged_df.head(5)"
      ],
      "metadata": {
        "id": "f0_v9PSBYTA4"
      },
      "execution_count": null,
      "outputs": []
    },
    {
      "cell_type": "code",
      "source": [
        "merged_df[['customer_id', 'article_id', 'prod_name']].sort_values(by=['article_id'])"
      ],
      "metadata": {
        "id": "X006KDd_YlNL"
      },
      "execution_count": null,
      "outputs": []
    },
    {
      "cell_type": "code",
      "source": [
        "transactions_short = merged_df[['customer_id', 'article_id', 'prod_name', 'price']]\n",
        "transactions_short.info()"
      ],
      "metadata": {
        "id": "nGpsnrweZlOM"
      },
      "execution_count": null,
      "outputs": []
    },
    {
      "cell_type": "code",
      "source": [
        "# Group together\n",
        "transactions_groupped = transactions_short.groupby(['customer_id', 'article_id', 'prod_name']).sum().reset_index()\n",
        "transactions_groupped"
      ],
      "metadata": {
        "id": "VqxYIy3oJki_"
      },
      "execution_count": null,
      "outputs": []
    },
    {
      "cell_type": "code",
      "source": [
        "def create_DataBinary(DataGrouped):\n",
        "    transactions_binary = transactions_groupped.copy()\n",
        "    transactions_binary['PurchasedYes'] = 1\n",
        "    return transactions_binary\n",
        "\n",
        "transactions_binary = create_DataBinary(transactions_groupped)\n",
        "transactions_binary.head()"
      ],
      "metadata": {
        "id": "ya9tPuM3JqK4"
      },
      "execution_count": null,
      "outputs": []
    },
    {
      "cell_type": "code",
      "source": [
        "df_resultado = transactions_binary.drop(['price', 'article_id'], axis=1)"
      ],
      "metadata": {
        "id": "T9PA02w9JqSc"
      },
      "execution_count": null,
      "outputs": []
    },
    {
      "cell_type": "code",
      "source": [
        "print(df_resultado.info())"
      ],
      "metadata": {
        "id": "TgeKhcimdv9T"
      },
      "execution_count": null,
      "outputs": []
    },
    {
      "cell_type": "code",
      "source": [
        "df_resultado.head(5)"
      ],
      "metadata": {
        "id": "nbGrGVnkbOOo"
      },
      "execution_count": null,
      "outputs": []
    },
    {
      "cell_type": "code",
      "source": [
        "# Obtener la lista única de usuarios y productos\n",
        "usuarios = df_resultado['customer_id']\n",
        "productos = df_resultado['prod_name'] #Aqui podra ser el 100% de articulos\n",
        "usuarios_unique = df_resultado['customer_id'].unique()\n",
        "productos_unique = df_resultado['prod_name'].unique()\n",
        "\n",
        "# Crear todas las combinaciones posibles entre usuarios y productos\n",
        "combinaciones = pd.DataFrame([(usuario, producto) for usuario in usuarios_unique for producto in productos_unique],\n",
        "                              columns=['customer_id', 'prod_name'])\n",
        "\n",
        "print(combinaciones.info())\n",
        "combinaciones"
      ],
      "metadata": {
        "id": "J42FSGDZhviv"
      },
      "execution_count": null,
      "outputs": []
    },
    {
      "cell_type": "code",
      "source": [
        "# Realizar un left join con las transacciones\n",
        "df_resultado = pd.merge(combinaciones, df_resultado, on=['customer_id', 'prod_name'], how='left')\n",
        "\n",
        "# Rellenar los valores nulos con 0 (no comprado)\n",
        "df_resultado['PurchasedYes'].fillna(0, inplace=True)\n",
        "\n",
        "# Imprimir el resultado\n",
        "print(df_resultado.info())\n",
        "print(\"Resultado final:\")\n",
        "print(df_resultado[['customer_id', 'prod_name', 'PurchasedYes']])"
      ],
      "metadata": {
        "id": "lmWU10WRpgGV"
      },
      "execution_count": null,
      "outputs": []
    },
    {
      "cell_type": "markdown",
      "metadata": {
        "id": "5PAqjR4a1RR4"
      },
      "source": [
        "## Preparing the dataset\n",
        "\n",
        "We're going to use the Movielens 100K dataset."
      ]
    },
    {
      "cell_type": "markdown",
      "metadata": {
        "id": "JRHorm8W1yf3"
      },
      "source": [
        "And repeat our preparations for building vocabularies and splitting the data into a train and a test set:"
      ]
    },
    {
      "cell_type": "code",
      "source": [
        "\n",
        "# Creating training and testing sets\n",
        "train, test = train_test_split(df_resultado, test_size=0.2, random_state=42)\n"
      ],
      "metadata": {
        "id": "Cz519i1_fz-6"
      },
      "execution_count": null,
      "outputs": []
    },
    {
      "cell_type": "code",
      "source": [
        "\n",
        "# Encode 'customer_id' to numerical values\n",
        "label_encoder = LabelEncoder()\n",
        "df_resultado['customer_id'] = label_encoder.fit_transform(df_resultado['customer_id'])\n",
        "\n"
      ],
      "metadata": {
        "id": "BmEokT59eQLx"
      },
      "execution_count": null,
      "outputs": []
    },
    {
      "cell_type": "code",
      "source": [
        "print(type(train))\n",
        "print(type(test))"
      ],
      "metadata": {
        "id": "TAKBs8zQNbaU"
      },
      "execution_count": null,
      "outputs": []
    },
    {
      "cell_type": "code",
      "source": [
        "print(train.info())\n",
        "train.head(5)"
      ],
      "metadata": {
        "id": "fxbzEg4NPU4D"
      },
      "execution_count": null,
      "outputs": []
    },
    {
      "cell_type": "code",
      "source": [
        "print(test.info())\n",
        "test.head(5)"
      ],
      "metadata": {
        "id": "Rkrujn_QjXWD"
      },
      "execution_count": null,
      "outputs": []
    },
    {
      "cell_type": "markdown",
      "source": [
        "## Implementing a Model\n"
      ],
      "metadata": {
        "id": "7cHMoilAuXlm"
      }
    },
    {
      "cell_type": "code",
      "source": [
        "df_transacciones = df_resultado"
      ],
      "metadata": {
        "id": "QmvBmp733pJx"
      },
      "execution_count": null,
      "outputs": []
    },
    {
      "cell_type": "code",
      "source": [
        "print(tf.__version__)\n",
        "print(tfrs.__version__)"
      ],
      "metadata": {
        "id": "l2nXXUeNtMBe"
      },
      "execution_count": null,
      "outputs": []
    },
    {
      "cell_type": "code",
      "source": [
        "# productos\n",
        "# usuarios\n",
        "# df_resultado\n",
        "# customer_id\tprod_name\tPurchasedYes\n",
        "\n",
        "# Create user and item datasets\n",
        "#user_ids = df_transacciones['customer_id'].astype('category').cat.codes.astype(int).unique()\n",
        "#item_ids = df_transacciones['prod_name'].astype('category').cat.codes.astype(int).unique()\n"
      ],
      "metadata": {
        "id": "27tI8ObS10lq"
      },
      "execution_count": null,
      "outputs": []
    },
    {
      "cell_type": "code",
      "source": [
        "# Crear dataset para entrenamiento\n",
        "train_data = tf.data.Dataset.from_tensor_slices(\n",
        "    ({\"customer_id\": df_transacciones['customer_id'], \"prod_name\": df_transacciones['prod_name']},\n",
        "     df_transacciones['PurchasedYes'].astype(int))\n",
        ")"
      ],
      "metadata": {
        "id": "38jYkPMWtWQ1"
      },
      "execution_count": null,
      "outputs": []
    },
    {
      "cell_type": "code",
      "source": [
        "print(df_transacciones.info())\n",
        "print(type(usuarios_unique))\n",
        "print(type(productos_unique))"
      ],
      "metadata": {
        "id": "0NctJ_LN96tA"
      },
      "execution_count": null,
      "outputs": []
    },
    {
      "cell_type": "code",
      "source": [
        "type(productos)\n",
        "tf_productos = tf.data.Dataset.from_tensor_slices(productos)\n",
        "type(tf_productos)"
      ],
      "metadata": {
        "id": "wzqWarR4EXNJ"
      },
      "execution_count": null,
      "outputs": []
    },
    {
      "cell_type": "code",
      "source": [
        "#**************************************\n",
        "class MovielensModel(tfrs.models.Model):\n",
        "\n",
        "  def __init__(self, rating_weight: float, retrieval_weight: float) -> None:\n",
        "    # We take the loss weights in the constructor: this allows us to instantiate\n",
        "    # several model objects with different loss weights.\n",
        "\n",
        "    super().__init__()\n",
        "\n",
        "    embedding_dimension = 32\n",
        "\n",
        "    # User and movie models.\n",
        "    self.movie_model: tf.keras.layers.Layer = tf.keras.Sequential([\n",
        "      tf.keras.layers.StringLookup(\n",
        "        vocabulary=productos_unique, mask_token=None),\n",
        "      tf.keras.layers.Embedding(len(productos_unique) + 1, embedding_dimension)\n",
        "    ])\n",
        "    self.user_model: tf.keras.layers.Layer = tf.keras.Sequential([\n",
        "      tf.keras.layers.StringLookup(\n",
        "        vocabulary=usuarios_unique, mask_token=None),\n",
        "      tf.keras.layers.Embedding(len(usuarios_unique) + 1, embedding_dimension)\n",
        "    ])\n",
        "\n",
        "    # A small model to take in user and movie embeddings and predict ratings.\n",
        "    # We can make this as complicated as we want as long as we output a scalar\n",
        "    # as our prediction.\n",
        "    self.rating_model = tf.keras.Sequential([\n",
        "        tf.keras.layers.Dense(256, activation=\"relu\"),\n",
        "        tf.keras.layers.Dense(128, activation=\"relu\"),\n",
        "        tf.keras.layers.Dense(1),\n",
        "    ])\n",
        "\n",
        "    # The tasks.\n",
        "    self.rating_task: tf.keras.layers.Layer = tfrs.tasks.Ranking(\n",
        "        loss=tf.keras.losses.MeanSquaredError(),\n",
        "        metrics=[tf.keras.metrics.RootMeanSquaredError()],\n",
        "    )\n",
        "    self.retrieval_task: tf.keras.layers.Layer = tfrs.tasks.Retrieval(\n",
        "        metrics=tfrs.metrics.FactorizedTopK(\n",
        "            candidates=tf_productos.batch(128).map(self.movie_model)\n",
        "        )\n",
        "    )\n",
        "\n",
        "    # The loss weights.\n",
        "    self.rating_weight = rating_weight\n",
        "    self.retrieval_weight = retrieval_weight\n",
        "\n",
        "\n",
        "  def call(self, features: Dict[Text, tf.Tensor]) -> tf.Tensor:\n",
        "    # We pick out the user features and pass them into the user model.\n",
        "    user_embeddings = self.user_model(features[\"customer_id\"])\n",
        "    # And pick out the movie features and pass them into the movie model.\n",
        "    movie_embeddings = self.movie_model(features[\"prod_name\"])\n",
        "\n",
        "    return (\n",
        "        user_embeddings,\n",
        "        movie_embeddings,\n",
        "        # We apply the multi-layered rating model to a concatentation of\n",
        "        # user and movie embeddings.\n",
        "        self.rating_model(\n",
        "            tf.concat([user_embeddings, movie_embeddings], axis=1)\n",
        "        ),\n",
        "    )\n",
        "\n",
        "  def compute_loss(self, features: Dict[Text, tf.Tensor], training=False) -> tf.Tensor:\n",
        "\n",
        "    ratings = features.pop(\"PurchasedYes\")\n",
        "\n",
        "    user_embeddings, movie_embeddings, rating_predictions = self(features)\n",
        "\n",
        "    # We compute the loss for each task.\n",
        "    rating_loss = self.rating_task(\n",
        "        labels=ratings,\n",
        "        predictions=rating_predictions,\n",
        "    )\n",
        "    retrieval_loss = self.retrieval_task(user_embeddings, movie_embeddings)\n",
        "\n",
        "    # And combine them using the loss weights.\n",
        "    return (self.rating_weight * rating_loss\n",
        "            + self.retrieval_weight * retrieval_loss)\n",
        ""
      ],
      "metadata": {
        "id": "GeTLNiPYAP18"
      },
      "execution_count": null,
      "outputs": []
    },
    {
      "cell_type": "code",
      "source": [
        "model = MovielensModel(rating_weight=1.0, retrieval_weight=0.0)\n"
      ],
      "metadata": {
        "id": "zTzFsbXaBBQX"
      },
      "execution_count": null,
      "outputs": []
    },
    {
      "cell_type": "code",
      "source": [
        "model.compile(optimizer=tf.keras.optimizers.Adagrad(0.1))"
      ],
      "metadata": {
        "id": "cLF3RVdkRh-T"
      },
      "execution_count": null,
      "outputs": []
    },
    {
      "cell_type": "code",
      "source": [
        "# Randomly shuffle data and split between train and test.\n",
        "tf_transacciones = tf.data.Dataset.from_tensor_slices(dict(df_transacciones))\n",
        "\n",
        "tf.random.set_seed(42)\n",
        "shuffled = tf_transacciones.shuffle(100_000, seed=42, reshuffle_each_iteration=False)\n",
        "\n",
        "train = shuffled.take(80_000)\n",
        "test = shuffled.skip(80_000).take(20_000)"
      ],
      "metadata": {
        "id": "MVNnz4qTR1Ds"
      },
      "execution_count": null,
      "outputs": []
    },
    {
      "cell_type": "code",
      "source": [
        "cached_train = train.shuffle(100_000).batch(8192).cache()\n",
        "cached_test = test.batch(4096).cache()"
      ],
      "metadata": {
        "id": "336h7DkCS236"
      },
      "execution_count": null,
      "outputs": []
    },
    {
      "cell_type": "code",
      "source": [
        "model.fit(cached_train, epochs=3)\n",
        "metrics = model.evaluate(cached_test, return_dict=True)\n",
        "\n",
        "print(f\"Retrieval top-100 accuracy: {metrics['factorized_top_k/top_100_categorical_accuracy']:.3f}.\")\n",
        "print(f\"Ranking RMSE: {metrics['root_mean_squared_error']:.3f}.\")"
      ],
      "metadata": {
        "id": "9gkMqYoeRme9"
      },
      "execution_count": null,
      "outputs": []
    },
    {
      "cell_type": "code",
      "source": [],
      "metadata": {
        "id": "3-_sFjn9S2AQ"
      },
      "execution_count": null,
      "outputs": []
    },
    {
      "cell_type": "code",
      "source": [
        "#**************************************\n",
        "\n",
        "class HyM_model(tfrs.Model):\n",
        "  # We derive from a custom base class to help reduce boilerplate. Under the hood,\n",
        "  # these are still plain Keras Models.\n",
        "\n",
        "  def __init__(\n",
        "      self,\n",
        "      customer_model: tf.keras.Model,\n",
        "      article_model: tf.keras.Model,\n",
        "      task: tfrs.tasks.Retrieval):\n",
        "    super().__init__()\n",
        "\n",
        "    # Set up user and movie representations.\n",
        "    self.customer_model = customer_model\n",
        "    self.article_model = article_model\n",
        "\n",
        "    # Set up a retrieval task.\n",
        "    self.task = task\n",
        "\n",
        "  def compute_loss(self, features: Dict[Text, tf.Tensor], training=False) -> tf.Tensor:\n",
        "    # Define how the loss is computed.\n",
        "\n",
        "    user_embeddings = self.user_model(features[\"customer_id\"])\n",
        "    movie_embeddings = self.movie_model(features[\"prod_name\"])\n",
        "\n",
        "    return self.task(user_embeddings, movie_embeddings)"
      ],
      "metadata": {
        "id": "QHbumeWiviw7"
      },
      "execution_count": null,
      "outputs": []
    },
    {
      "cell_type": "code",
      "source": [
        "# Crear principales sequencias de modelo\n",
        "embedding_dimension = 32\n",
        "\n",
        "customer_model = tf.keras.Sequential([\n",
        "    tf.keras.layers.Embedding(\n",
        "        input_dim=len(user_ids), output_dim=embedding_dimension\n",
        "    )\n",
        "])\n",
        "\n",
        "article_model = tf.keras.Sequential([\n",
        "    tf.keras.layers.Embedding(\n",
        "        input_dim=len(item_ids), output_dim=embedding_dimension\n",
        "    )\n",
        "])"
      ],
      "metadata": {
        "id": "Gc85MAq0tawi"
      },
      "execution_count": null,
      "outputs": []
    },
    {
      "cell_type": "code",
      "source": [
        "# Creando Metrics\n",
        "\n",
        "task = tfrs.tasks.Retrieval(\n",
        "    metrics = tfrs.metrics.FactorizedTopK( candidates=productos)\n",
        "    )"
      ],
      "metadata": {
        "id": "5aS_jUklt_nq"
      },
      "execution_count": null,
      "outputs": []
    },
    {
      "cell_type": "code",
      "source": [
        "# Creando el Modelo\n",
        "model = HyM_model(\n",
        "    customer_model,\n",
        "    article_model,\n",
        "    task=task\n",
        ")\n",
        "\n",
        "'''\n",
        "model = tfrs.Model(\n",
        "    user_model,\n",
        "    item_model,\n",
        "    #task=tfrs.tasks.Retrieval(metrics=tfrs.metrics.FactorizedTopK(candidates=df_articulos['prod_name'].unique())),\n",
        "    #task=tfrs.tasks.Retrieval(metrics=tfrs.metrics.FactorizedTopK(candidates=productos))\n",
        "    task=task\n",
        ")\n",
        "'''"
      ],
      "metadata": {
        "id": "XHqWHdH4uJOM"
      },
      "execution_count": null,
      "outputs": []
    },
    {
      "cell_type": "code",
      "source": [
        "\n",
        "# Compilar modelo\n",
        "model.compile(optimizer=tf.keras.optimizers.Adagrad(0.1))\n",
        "\n",
        "# Entrenar modelo\n",
        "model.fit(train_data, epochs=10)\n",
        "\n",
        "# Evaluar modelo\n",
        "evaluation = model.evaluate(train_data, return_dict=True)\n",
        "\n",
        "# Imprimir métricas de evaluación\n",
        "for metric, value in evaluation.items():\n",
        "    print(f\"{metric}: {value}\")\n",
        "\n",
        "# Obtener recomendaciones para un usuario\n",
        "user_id = 0\n",
        "top_k_recommendations = model.recommend(tf.constant([user_id]))\n",
        "\n",
        "# Imprimir recomendaciones\n",
        "print(f\"Top-10 recomendaciones para usuario {user_id}: {top_k_recommendations['prod_name']}\")"
      ],
      "metadata": {
        "id": "oFW8uFxDymYY"
      },
      "execution_count": null,
      "outputs": []
    },
    {
      "cell_type": "markdown",
      "source": [
        "### ---\n",
        "### The query Tower"
      ],
      "metadata": {
        "id": "8KxXgZkHypLQ"
      }
    },
    {
      "cell_type": "code",
      "source": [
        "#The first step is to decide on the dimensionality of the query and candidate representations:\n",
        "embedding_dimension = 32"
      ],
      "metadata": {
        "id": "8RQumiZ_uXvJ"
      },
      "execution_count": null,
      "outputs": []
    },
    {
      "cell_type": "markdown",
      "source": [
        "Higher values will correspond to models that may be more accurate, but will also be slower to fit and more prone to overfitting.\n",
        "\n",
        "The second is to define the model itself. Here, we're going to use Keras preprocessing layers to first convert user ids to integers, and then convert those to user embeddings via an Embedding layer. Note that we use the list of unique user ids we computed earlier as a vocabulary:"
      ],
      "metadata": {
        "id": "MjgA7KXlvDuo"
      }
    },
    {
      "cell_type": "code",
      "source": [
        "# productos\n",
        "# usuarios\n",
        "\n",
        "# Defining the Model\n",
        "user_model = tf.keras.Sequential([\n",
        "  tf.keras.layers.StringLookup(\n",
        "      vocabulary=usuarios, mask_token=None),\n",
        "  # We add an additional embedding to account for unknown tokens.\n",
        "  tf.keras.layers.Embedding(len(usuarios) + 1, embedding_dimension)\n",
        "])"
      ],
      "metadata": {
        "id": "lgD-NKGPuw8_"
      },
      "execution_count": null,
      "outputs": []
    },
    {
      "cell_type": "markdown",
      "source": [
        "A simple model like this corresponds exactly to a classic matrix factorization approach. While defining a subclass of tf.keras.Model for this simple model might be overkill, we can easily extend it to an arbitrarily complex model using standard Keras components, as long as we return an embedding_dimension-wide output at the end.\n",
        "\n",
        "### The candidate tower\n",
        "We can do the same with the candidate tower."
      ],
      "metadata": {
        "id": "gu6GQbxJvJvG"
      }
    },
    {
      "cell_type": "code",
      "source": [
        "movie_model = tf.keras.Sequential([\n",
        "  tf.keras.layers.StringLookup(\n",
        "      vocabulary=productos, mask_token=None),\n",
        "  tf.keras.layers.Embedding(len(productos) + 1, embedding_dimension)\n",
        "])"
      ],
      "metadata": {
        "id": "AjVVUxGhvLFe"
      },
      "execution_count": null,
      "outputs": []
    },
    {
      "cell_type": "markdown",
      "source": [
        "## Metrics\n",
        "In our training data we have positive (user, movie) pairs. To figure out how good our model is, we need to compare the affinity score that the model calculates for this pair to the scores of all the other possible candidates: if the score for the positive pair is higher than for all other candidates, our model is highly accurate.\n",
        "\n",
        "To do this, we can use the tfrs.metrics.FactorizedTopK metric. The metric has one required argument: the dataset of candidates that are used as implicit negatives for evaluation.\n",
        "\n",
        "In our case, that's the movies dataset, converted into embeddings via our movie model:\n"
      ],
      "metadata": {
        "id": "w2DCaiELwd5N"
      }
    },
    {
      "cell_type": "code",
      "source": [
        "metrics = tfrs.metrics.FactorizedTopK(\n",
        "  #candidates=productos.batch(128).map(movie_model)\n",
        "  candidates=productos.map(movie_model)\n",
        ")"
      ],
      "metadata": {
        "id": "7vPc2hanwnCG"
      },
      "execution_count": null,
      "outputs": []
    },
    {
      "cell_type": "markdown",
      "metadata": {
        "id": "eCi-seR86qqa"
      },
      "source": [
        "## A multi-task model\n",
        "\n",
        "There are two critical parts to multi-task recommenders:\n",
        "\n",
        "1. They optimize for two or more objectives, and so have two or more losses.\n",
        "2. They share variables between the tasks, allowing for transfer learning.\n",
        "\n",
        "In this tutorial, we will define our models as before, but instead of having  a single task, we will have two tasks: one that predicts ratings, and one that predicts movie watches."
      ]
    },
    {
      "cell_type": "markdown",
      "source": [],
      "metadata": {
        "id": "gOzxBp6TuuZC"
      }
    },
    {
      "cell_type": "markdown",
      "metadata": {
        "id": "AXHrk_SLzKCM"
      },
      "source": [
        "The user and movie models are as before:\n",
        "\n",
        "```python\n",
        "user_model = tf.keras.Sequential([\n",
        "  tf.keras.layers.StringLookup(\n",
        "      vocabulary=unique_user_ids, mask_token=None),\n",
        "  # We add 1 to account for the unknown token.\n",
        "  tf.keras.layers.Embedding(len(unique_user_ids) + 1, embedding_dimension)\n",
        "])\n",
        "\n",
        "movie_model = tf.keras.Sequential([\n",
        "  tf.keras.layers.StringLookup(\n",
        "      vocabulary=unique_movie_titles, mask_token=None),\n",
        "  tf.keras.layers.Embedding(len(unique_movie_titles) + 1, embedding_dimension)\n",
        "])\n",
        "```"
      ]
    },
    {
      "cell_type": "markdown",
      "metadata": {
        "id": "cWCwkE5z8QBe"
      },
      "source": [
        "However, now we will have two tasks. The first is the rating task:\n",
        "\n",
        "```python\n",
        "tfrs.tasks.Ranking(\n",
        "    loss=tf.keras.losses.MeanSquaredError(),\n",
        "    metrics=[tf.keras.metrics.RootMeanSquaredError()],\n",
        ")\n",
        "```"
      ]
    },
    {
      "cell_type": "markdown",
      "metadata": {
        "id": "xrgQIXEm8UWf"
      },
      "source": [
        "Its goal is to predict the ratings as accurately as possible.\n",
        "\n",
        "The second is the retrieval task:\n",
        "\n",
        "```python\n",
        "tfrs.tasks.Retrieval(\n",
        "    metrics=tfrs.metrics.FactorizedTopK(\n",
        "        candidates=movies.batch(128)\n",
        "    )\n",
        ")\n",
        "```"
      ]
    },
    {
      "cell_type": "markdown",
      "metadata": {
        "id": "SCNrv7_gakmF"
      },
      "source": [
        "As before, this task's goal is to predict which movies the user will or will not watch."
      ]
    },
    {
      "cell_type": "markdown",
      "metadata": {
        "id": "DSWw3xuq8mGh"
      },
      "source": [
        "### Putting it together\n",
        "\n",
        "We put it all together in a model class.\n",
        "\n",
        "The new component here is that - since we have two tasks and two losses - we need to decide on how important each loss is. We can do this by giving each of the losses a weight, and treating these weights as hyperparameters. If we assign a large loss weight to the rating task, our model is going to focus on predicting ratings (but still use some information from the retrieval task); if we assign a large loss weight to the retrieval task, it will focus on retrieval instead."
      ]
    },
    {
      "cell_type": "code",
      "source": [
        "print(type(usuarios[0]))\n",
        "print(type(productos[0]))"
      ],
      "metadata": {
        "id": "DFZxOGm5GPfM"
      },
      "execution_count": null,
      "outputs": []
    },
    {
      "cell_type": "code",
      "execution_count": null,
      "metadata": {
        "id": "YFSkOAMgzU0K"
      },
      "outputs": [],
      "source": [
        "class MovielensModel(tfrs.models.Model):\n",
        "\n",
        "  def __init__(self, rating_weight: float, retrieval_weight: float) -> None:\n",
        "    # We take the loss weights in the constructor: this allows us to instantiate\n",
        "    # several model objects with different loss weights.\n",
        "\n",
        "    super().__init__()\n",
        "\n",
        "    embedding_dimension = 32\n",
        "\n",
        "    # User and movie models.\n",
        "    self.movie_model: tf.keras.layers.Layer = tf.keras.Sequential([\n",
        "      tf.keras.layers.StringLookup(\n",
        "        vocabulary=productos, mask_token=None),\n",
        "      tf.keras.layers.Embedding(len(productos) + 1, embedding_dimension)\n",
        "    ])\n",
        "\n",
        "    self.user_model: tf.keras.layers.Layer = tf.keras.Sequential([\n",
        "      tf.keras.layers.StringLookup(\n",
        "        vocabulary=usuarios, mask_token=None),\n",
        "      tf.keras.layers.Embedding(len(usuarios) + 1, embedding_dimension)\n",
        "    ])\n",
        "\n",
        "\n",
        "    # A small model to take in user and movie embeddings and predict ratings.\n",
        "    # We can make this as complicated as we want as long as we output a scalar\n",
        "    # as our prediction.\n",
        "    self.rating_model = tf.keras.Sequential([\n",
        "        tf.keras.layers.Dense(256, activation=\"relu\"),\n",
        "        tf.keras.layers.Dense(128, activation=\"relu\"),\n",
        "        tf.keras.layers.Dense(1),\n",
        "    ])\n",
        "\n",
        "    # The tasks.\n",
        "    self.rating_task: tf.keras.layers.Layer = tfrs.tasks.Ranking(\n",
        "        loss=tf.keras.losses.MeanSquaredError(),\n",
        "        metrics=[tf.keras.metrics.RootMeanSquaredError()],\n",
        "    )\n",
        "    self.retrieval_task: tf.keras.layers.Layer = tfrs.tasks.Retrieval(\n",
        "        metrics=tfrs.metrics.FactorizedTopK(\n",
        "            #candidates=movie.batch(128).map(self.movie_model)\n",
        "            candidates=productos\n",
        "        )\n",
        "    )\n",
        "\n",
        "    # The loss weights.\n",
        "    self.rating_weight = rating_weight\n",
        "    self.retrieval_weight = retrieval_weight\n",
        "\n",
        "  def call(self, features: Dict[Text, tf.Tensor]) -> tf.Tensor:\n",
        "    # We pick out the user features and pass them into the user model.\n",
        "    user_embeddings = self.user_model(features[\"customer_id\"])\n",
        "    # And pick out the movie features and pass them into the movie model.\n",
        "    movie_embeddings = self.movie_model(features[\"article_id\"])\n",
        "\n",
        "    return (\n",
        "        user_embeddings,\n",
        "        movie_embeddings,\n",
        "        # We apply the multi-layered rating model to a concatentation of\n",
        "        # user and movie embeddings.\n",
        "        self.rating_model(\n",
        "            tf.concat([user_embeddings, movie_embeddings], axis=1)\n",
        "        ),\n",
        "    )\n",
        "\n",
        "  def compute_loss(self, features: Dict[Text, tf.Tensor], training=False) -> tf.Tensor:\n",
        "\n",
        "    ratings = features.pop(\"PurchasedYes\")\n",
        "\n",
        "    user_embeddings, movie_embeddings, rating_predictions = self(features)\n",
        "\n",
        "    # We compute the loss for each task.\n",
        "    rating_loss = self.rating_task(\n",
        "        labels=ratings,\n",
        "        predictions=rating_predictions,\n",
        "    )\n",
        "    retrieval_loss = self.retrieval_task(user_embeddings, movie_embeddings)\n",
        "\n",
        "    # And combine them using the loss weights.\n",
        "    return (self.rating_weight * rating_loss\n",
        "            + self.retrieval_weight * retrieval_loss)"
      ]
    },
    {
      "cell_type": "markdown",
      "metadata": {
        "id": "ngvn-c0b8lc2"
      },
      "source": [
        "### Rating-specialized model\n",
        "\n",
        "Depending on the weights we assign, the model will encode a different balance of the tasks. Let's start with a model that only considers ratings."
      ]
    },
    {
      "cell_type": "code",
      "execution_count": null,
      "metadata": {
        "id": "NNfB6rYL0VrS"
      },
      "outputs": [],
      "source": [
        "model = MovielensModel(rating_weight=1.0, retrieval_weight=0.0)\n",
        "model.compile(optimizer=tf.keras.optimizers.Adagrad(0.1))"
      ]
    },
    {
      "cell_type": "code",
      "execution_count": null,
      "metadata": {
        "id": "I6kjfF1j0iZR"
      },
      "outputs": [],
      "source": [
        "'''\n",
        "cached_train = train.shuffle(100_000).batch(8192).cache()\n",
        "cached_test = test.batch(4096).cache()\n",
        "print(type(cached_train))\n",
        "print(type(cached_test))\n",
        "'''"
      ]
    },
    {
      "cell_type": "code",
      "execution_count": null,
      "metadata": {
        "id": "6NWadH1q0c_T"
      },
      "outputs": [],
      "source": [
        "model.fit(train, epochs=3)\n",
        "metrics = model.evaluate(test, return_dict=True)\n",
        "\n",
        "print(f\"Retrieval top-100 accuracy: {metrics['factorized_top_k/top_100_categorical_accuracy']:.3f}.\")\n",
        "print(f\"Ranking RMSE: {metrics['root_mean_squared_error']:.3f}.\")"
      ]
    },
    {
      "cell_type": "markdown",
      "metadata": {
        "id": "lENViv04-i0T"
      },
      "source": [
        "The model does OK on predicting ratings (with an RMSE of around 1.11), but performs poorly at predicting which movies will be watched or not: its accuracy at 100 is almost 4 times worse than a model trained solely to predict watches."
      ]
    },
    {
      "cell_type": "markdown",
      "metadata": {
        "id": "yPYd9LtE-4Fm"
      },
      "source": [
        "### Retrieval-specialized model\n",
        "\n",
        "Let's now try a model that focuses on retrieval only."
      ]
    },
    {
      "cell_type": "code",
      "execution_count": null,
      "metadata": {
        "id": "BfnkGd2G--Qt"
      },
      "outputs": [],
      "source": [
        "model = MovielensModel(rating_weight=0.0, retrieval_weight=1.0)\n",
        "model.compile(optimizer=tf.keras.optimizers.Adagrad(0.1))"
      ]
    },
    {
      "cell_type": "code",
      "execution_count": null,
      "metadata": {
        "id": "JCCBdM7U_B11"
      },
      "outputs": [],
      "source": [
        "model.fit(cached_train, epochs=3)\n",
        "metrics = model.evaluate(cached_test, return_dict=True)\n",
        "\n",
        "print(f\"Retrieval top-100 accuracy: {metrics['factorized_top_k/top_100_categorical_accuracy']:.3f}.\")\n",
        "print(f\"Ranking RMSE: {metrics['root_mean_squared_error']:.3f}.\")"
      ]
    },
    {
      "cell_type": "markdown",
      "metadata": {
        "id": "YjM7j7eY_jPh"
      },
      "source": [
        "We get the opposite result: a model that does well on retrieval, but poorly on predicting ratings."
      ]
    },
    {
      "cell_type": "markdown",
      "metadata": {
        "id": "hOFwjUus_pLU"
      },
      "source": [
        "### Joint model\n",
        "\n",
        "Let's now train a model that assigns positive weights to both tasks."
      ]
    },
    {
      "cell_type": "code",
      "execution_count": null,
      "metadata": {
        "id": "7xyDbNMf_t8a"
      },
      "outputs": [],
      "source": [
        "model = MovielensModel(rating_weight=1.0, retrieval_weight=1.0)\n",
        "model.compile(optimizer=tf.keras.optimizers.Adagrad(0.1))"
      ]
    },
    {
      "cell_type": "code",
      "execution_count": null,
      "metadata": {
        "id": "2pZmM_ub_uEO"
      },
      "outputs": [],
      "source": [
        "model.fit(cached_train, epochs=3)\n",
        "metrics = model.evaluate(cached_test, return_dict=True)\n",
        "\n",
        "print(f\"Retrieval top-100 accuracy: {metrics['factorized_top_k/top_100_categorical_accuracy']:.3f}.\")\n",
        "print(f\"Ranking RMSE: {metrics['root_mean_squared_error']:.3f}.\")"
      ]
    },
    {
      "cell_type": "markdown",
      "metadata": {
        "id": "Ni_rkOsaB3f9"
      },
      "source": [
        "The result is a model that performs roughly as well on both tasks as each specialized model.\n",
        "\n",
        "### Making prediction\n",
        "\n",
        "We can use the trained multitask model to get trained user and movie embeddings, as well as the predicted rating:"
      ]
    },
    {
      "cell_type": "code",
      "execution_count": null,
      "metadata": {
        "id": "SXXh-PLaH_Vn"
      },
      "outputs": [],
      "source": [
        "trained_movie_embeddings, trained_user_embeddings, predicted_rating = model({\n",
        "      \"user_id\": np.array([\"42\"]),\n",
        "      \"movie_title\": np.array([\"Dances with Wolves (1990)\"])\n",
        "  })\n",
        "print(\"Predicted rating:\")\n",
        "print(predicted_rating)"
      ]
    },
    {
      "cell_type": "markdown",
      "metadata": {
        "id": "FADp0pUWINTD"
      },
      "source": [
        "While the results here do not show a clear accuracy benefit from a joint model in this case, multi-task learning is in general an extremely useful tool. We can expect better results when we can transfer knowledge from a data-abundant task (such as clicks) to a closely related data-sparse task (such as purchases)."
      ]
    },
    {
      "cell_type": "code",
      "execution_count": null,
      "metadata": {
        "id": "I7xYDRHQIQvm"
      },
      "outputs": [],
      "source": []
    }
  ],
  "metadata": {
    "colab": {
      "private_outputs": true,
      "provenance": [],
      "machine_shape": "hm",
      "gpuType": "T4",
      "include_colab_link": true
    },
    "kernelspec": {
      "display_name": "Python 3",
      "name": "python3"
    },
    "accelerator": "GPU"
  },
  "nbformat": 4,
  "nbformat_minor": 0
}