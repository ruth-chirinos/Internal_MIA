{
  "cells": [
    {
      "cell_type": "markdown",
      "metadata": {
        "id": "view-in-github",
        "colab_type": "text"
      },
      "source": [
        "<a href=\"https://colab.research.google.com/github/ruth-chirinos/Internal_MIA/blob/main/HM_multitask_tensorflow.ipynb\" target=\"_parent\"><img src=\"https://colab.research.google.com/assets/colab-badge.svg\" alt=\"Open In Colab\"/></a>"
      ]
    },
    {
      "cell_type": "markdown",
      "metadata": {
        "id": "X80i_girFR2o"
      },
      "source": [
        "##### Copyright 2020 The TensorFlow Authors."
      ]
    },
    {
      "cell_type": "code",
      "execution_count": null,
      "metadata": {
        "cellView": "form",
        "id": "bB8gHCR3FVC0"
      },
      "outputs": [],
      "source": [
        "#@title Licensed under the Apache License, Version 2.0 (the \"License\");\n",
        "# you may not use this file except in compliance with the License.\n",
        "# You may obtain a copy of the License at\n",
        "#\n",
        "# https://www.apache.org/licenses/LICENSE-2.0\n",
        "#\n",
        "# Unless required by applicable law or agreed to in writing, software\n",
        "# distributed under the License is distributed on an \"AS IS\" BASIS,\n",
        "# WITHOUT WARRANTIES OR CONDITIONS OF ANY KIND, either express or implied.\n",
        "# See the License for the specific language governing permissions and\n",
        "# limitations under the License."
      ]
    },
    {
      "cell_type": "markdown",
      "metadata": {
        "id": "kCeYA79m1DEX"
      },
      "source": [
        "# Multi-task recommenders\n",
        "\n",
        "<table class=\"tfo-notebook-buttons\" align=\"left\">\n",
        "  <td>\n",
        "    <a target=\"_blank\" href=\"https://www.tensorflow.org/recommenders/examples/multitask\"><img src=\"https://www.tensorflow.org/images/tf_logo_32px.png\" />View on TensorFlow.org</a>\n",
        "  </td>\n",
        "  <td>\n",
        "    <a target=\"_blank\" href=\"https://colab.research.google.com/github/tensorflow/recommenders/blob/main/docs/examples/multitask.ipynb\"><img src=\"https://www.tensorflow.org/images/colab_logo_32px.png\" />Run in Google Colab</a>\n",
        "  </td>\n",
        "  <td>\n",
        "    <a target=\"_blank\" href=\"https://github.com/tensorflow/recommenders/blob/main/docs/examples/multitask.ipynb\"><img src=\"https://www.tensorflow.org/images/GitHub-Mark-32px.png\" />View source on GitHub</a>\n",
        "  </td>\n",
        "  <td>\n",
        "    <a href=\"https://storage.googleapis.com/tensorflow_docs/recommenders/docs/examples/multitask.ipynb\"><img src=\"https://www.tensorflow.org/images/download_logo_32px.png\" />Download notebook</a>\n",
        "  </td>\n",
        "</table>"
      ]
    },
    {
      "cell_type": "markdown",
      "metadata": {
        "id": "Dk8QEc4sIPMi"
      },
      "source": [
        "In the [basic retrieval tutorial](basic_retrieval) we built a retrieval system using movie watches as positive interaction signals.\n",
        "\n",
        "In many applications, however, there are multiple rich sources of feedback to draw upon. For example, an e-commerce site may record user visits to product pages (abundant, but relatively low signal), image clicks, adding to cart, and, finally, purchases. It may even record post-purchase signals such as reviews and returns.\n",
        "\n",
        "Integrating all these different forms of feedback is critical to building systems that users love to use, and that do not optimize for any one metric at the expense of overall performance.\n",
        "\n",
        "In addition, building a joint model for multiple tasks may produce better results than building a number of task-specific models. This is especially true where some data is abundant (for example, clicks), and some data is sparse (purchases, returns, manual reviews). In those scenarios, a joint model may be able to use representations learned from the abundant task to improve its predictions on the sparse task via a phenomenon known as [transfer learning](https://en.wikipedia.org/wiki/Transfer_learning). For example, [this paper](https://openreview.net/pdf?id=SJxPVcSonN) shows that a model predicting explicit user ratings from sparse user surveys can be substantially improved by adding an auxiliary task that uses abundant click log data.\n",
        "\n",
        "In this tutorial, we are going to build a multi-objective recommender for Movielens, using both implicit (movie watches) and explicit signals (ratings)."
      ]
    },
    {
      "cell_type": "markdown",
      "metadata": {
        "id": "ZwrcZeK7x7xI"
      },
      "source": [
        "## Imports\n",
        "\n",
        "\n",
        "Let's first get our imports out of the way.\n"
      ]
    },
    {
      "cell_type": "code",
      "execution_count": null,
      "metadata": {
        "id": "izzoRqkGb2Zc"
      },
      "outputs": [],
      "source": [
        "!pip install -q tensorflow-recommenders\n",
        "!pip install -q --upgrade tensorflow-datasets"
      ]
    },
    {
      "cell_type": "markdown",
      "source": [],
      "metadata": {
        "id": "-GG5GpFVXD5l"
      }
    },
    {
      "cell_type": "code",
      "execution_count": null,
      "metadata": {
        "id": "SZGYDaF-m5wZ"
      },
      "outputs": [],
      "source": [
        "import os\n",
        "import pprint\n",
        "import tempfile\n",
        "\n",
        "from typing import Dict, Text\n",
        "\n",
        "import numpy as np\n",
        "import tensorflow as tf\n",
        "import tensorflow_datasets as tfds"
      ]
    },
    {
      "cell_type": "code",
      "execution_count": null,
      "metadata": {
        "id": "BxQ_hy7xPH3N"
      },
      "outputs": [],
      "source": [
        "import tensorflow_recommenders as tfrs\n",
        "from sklearn.model_selection import train_test_split\n",
        "\n"
      ]
    },
    {
      "cell_type": "markdown",
      "source": [
        "# H&M Group\n"
      ],
      "metadata": {
        "id": "34nbTmAOJZqb"
      }
    },
    {
      "cell_type": "code",
      "source": [
        "import pandas as pd\n",
        "import numpy as np\n",
        "from sklearn.metrics.pairwise import cosine_similarity\n",
        "import datetime\n",
        "\n",
        "\n",
        "from sklearn.preprocessing import LabelEncoder\n",
        "\n",
        "# Load datasets\n",
        "#base_path_data_example = \"/Users/rchirinos-macbook/Documents/Boss/MIA/TFM2023/PythonProject/SimilarProjects/HM-CreateDatasetSamples\"\n",
        "#base_path_global = \"/Users/rchirinos-macbook/Documents/Boss/MIA/TFM2023/PythonProject/data\"\n",
        "transactions = pd.read_csv('transactions_train_sample00001.csv')\n",
        "articles_total = pd.read_csv('articles.csv')\n",
        "print('QTY of transactions '+str(len(transactions)))\n",
        "# Merge datasets based on article_id\n",
        "merged_df = pd.merge(transactions, articles_total, on='article_id', how='left')\n",
        "print('QTY of merged '+str(len(merged_df)))\n",
        "\n",
        "#customers    = pd.read_csv('customers_train_sample1.csv')\n",
        "#articles     = pd.read_csv('articles.csv')"
      ],
      "metadata": {
        "id": "QeQd5QonJZxN"
      },
      "execution_count": null,
      "outputs": []
    },
    {
      "cell_type": "code",
      "source": [
        "merged_df.info()"
      ],
      "metadata": {
        "id": "qNyCZrcoX8Ym"
      },
      "execution_count": null,
      "outputs": []
    },
    {
      "cell_type": "code",
      "source": [
        "merged_df"
      ],
      "metadata": {
        "id": "f0_v9PSBYTA4"
      },
      "execution_count": null,
      "outputs": []
    },
    {
      "cell_type": "code",
      "source": [
        "merged_df[['customer_id', 'article_id', 'prod_name']].sort_values(by=['article_id'])"
      ],
      "metadata": {
        "id": "X006KDd_YlNL"
      },
      "execution_count": null,
      "outputs": []
    },
    {
      "cell_type": "code",
      "source": [
        "transactions_short = merged_df[['customer_id', 'article_id', 'prod_name', 'price']]\n",
        "transactions_short.info()"
      ],
      "metadata": {
        "id": "nGpsnrweZlOM"
      },
      "execution_count": null,
      "outputs": []
    },
    {
      "cell_type": "code",
      "source": [
        "# Group together\n",
        "transactions_groupped = transactions_short.groupby(['customer_id', 'article_id', 'prod_name']).sum().reset_index()\n",
        "transactions_groupped"
      ],
      "metadata": {
        "id": "VqxYIy3oJki_"
      },
      "execution_count": null,
      "outputs": []
    },
    {
      "cell_type": "code",
      "source": [
        "def create_DataBinary(DataGrouped):\n",
        "    transactions_binary = transactions_groupped.copy()\n",
        "    transactions_binary['PurchasedYes'] = 1\n",
        "    return transactions_binary\n",
        "\n",
        "transactions_binary = create_DataBinary(transactions_groupped)\n",
        "transactions_binary.head()"
      ],
      "metadata": {
        "id": "ya9tPuM3JqK4"
      },
      "execution_count": null,
      "outputs": []
    },
    {
      "cell_type": "code",
      "source": [
        "transactions_purchased_data =transactions_binary.drop(['price', 'article_id'], axis=1)\n",
        "print(transactions_purchased_data.info())"
      ],
      "metadata": {
        "id": "T9PA02w9JqSc"
      },
      "execution_count": null,
      "outputs": []
    },
    {
      "cell_type": "code",
      "source": [
        "transactions_purchased_data.head(5)"
      ],
      "metadata": {
        "id": "nbGrGVnkbOOo"
      },
      "execution_count": null,
      "outputs": []
    },
    {
      "cell_type": "code",
      "source": [
        "# Obtener los valores únicos de article_id\n",
        "articles_only_names= transactions_purchased_data[['prod_name']].drop_duplicates()\n",
        "articles_only_names"
      ],
      "metadata": {
        "id": "Mdz50HNaJqVS"
      },
      "execution_count": null,
      "outputs": []
    },
    {
      "cell_type": "code",
      "source": [
        "# Obtener la fecha y hora de inicio\n",
        "fecha_inicio = datetime.datetime.now()\n",
        "print(\"Fecha de inicio:\", fecha_inicio)\n",
        "\n",
        "# Crear un DataFrame con todas las combinaciones de customer_id y article_id\n",
        "combinaciones = pd.merge(transactions_purchased_data['customer_id'].drop_duplicates(), articles_only_ids, how='cross')\n",
        "\n",
        "# Obtener la fecha y hora de finalización\n",
        "fecha_final = datetime.datetime.now()\n",
        "print(\"Fecha de finalización:\", fecha_final)\n",
        "# Calcular la duración del proceso\n",
        "duracion = fecha_final - fecha_inicio\n",
        "print(\"Duración del proceso:\", duracion)\n"
      ],
      "metadata": {
        "id": "G8l9m6tbJqYJ"
      },
      "execution_count": null,
      "outputs": []
    },
    {
      "cell_type": "code",
      "source": [
        "#Clean objects\n",
        "articles_only_ids = None"
      ],
      "metadata": {
        "id": "sJgkd8OaB9Nj"
      },
      "execution_count": null,
      "outputs": []
    },
    {
      "cell_type": "code",
      "source": [
        "# Obtener la fecha y hora de inicio\n",
        "fecha_inicio = datetime.datetime.now()\n",
        "print(\"Fecha de inicio:\", fecha_inicio)\n",
        "\n",
        "# Combinar con las transacciones para obtener el DataFrame final\n",
        "df_resultado = pd.merge(combinaciones, transactions_purchased_data, how='left', on=['customer_id', 'article_id'])\n",
        "\n",
        "# Obtener la fecha y hora de finalización\n",
        "fecha_final = datetime.datetime.now()\n",
        "print(\"Fecha de finalización:\", fecha_final)\n",
        "# Calcular la duración del proceso\n",
        "duracion = fecha_final - fecha_inicio\n",
        "print(\"Duración del proceso:\", duracion)\n"
      ],
      "metadata": {
        "id": "Q8_c1b7IJqax"
      },
      "execution_count": null,
      "outputs": []
    },
    {
      "cell_type": "code",
      "source": [
        "#Clean objects\n",
        "combinaciones = None\n",
        "transactions_purchased_data = None"
      ],
      "metadata": {
        "id": "bbYVPVz3CHtI"
      },
      "execution_count": null,
      "outputs": []
    },
    {
      "cell_type": "code",
      "source": [
        "# Obtener la fecha y hora de inicio\n",
        "fecha_inicio = datetime.datetime.now()\n",
        "print(\"Fecha de inicio:\", fecha_inicio)\n",
        "\n",
        "# Llenar los valores NaN con 0, ya que NaN indica que el cliente no compró ese artículo\n",
        "df_resultado['PurchasedYes'].fillna(0, inplace=True)\n",
        "\n",
        "# Obtener la fecha y hora de finalización\n",
        "fecha_final = datetime.datetime.now()\n",
        "print(\"Fecha de finalización:\", fecha_final)\n",
        "# Calcular la duración del proceso\n",
        "duracion = fecha_final - fecha_inicio\n",
        "print(\"Duración del proceso:\", duracion)\n"
      ],
      "metadata": {
        "id": "DcVmUfaZJqdX"
      },
      "execution_count": null,
      "outputs": []
    },
    {
      "cell_type": "markdown",
      "metadata": {
        "id": "5PAqjR4a1RR4"
      },
      "source": [
        "## Preparing the dataset\n",
        "\n",
        "We're going to use the Movielens 100K dataset."
      ]
    },
    {
      "cell_type": "code",
      "execution_count": null,
      "metadata": {
        "id": "-ySWtibjm_6a"
      },
      "outputs": [],
      "source": [
        "'''\n",
        "ratings = tfds.load('movielens/100k-ratings', split=\"train\")\n",
        "movies = tfds.load('movielens/100k-movies', split=\"train\")\n",
        "\n",
        "# Select the basic features.\n",
        "ratings = ratings.map(lambda x: {\n",
        "    \"movie_title\": x[\"movie_title\"],\n",
        "    \"user_id\": x[\"user_id\"],\n",
        "    \"user_rating\": x[\"user_rating\"],\n",
        "})\n",
        "movies = movies.map(lambda x: x[\"movie_title\"])\n",
        "# Randomly shuffle data and split between train and test.\n",
        "train, test = train_test_split(dataset, test_size=0.2, random_state=42)\n",
        "\n",
        "\n",
        "movie_titles = movies.batch(1_000)\n",
        "user_ids = ratings.batch(1_000_000).map(lambda x: x[\"customer_id\"])\n",
        "\n",
        "unique_movie_titles = np.unique(np.concatenate(list(movie_titles)))\n",
        "unique_user_ids = np.unique(np.concatenate(list(user_ids)))\n",
        "0   customer_id   object\n",
        " 1   article_id    int64\n",
        " 2   PurchasedYes  float64\n",
        "\n",
        "'''"
      ]
    },
    {
      "cell_type": "markdown",
      "metadata": {
        "id": "JRHorm8W1yf3"
      },
      "source": [
        "And repeat our preparations for building vocabularies and splitting the data into a train and a test set:"
      ]
    },
    {
      "cell_type": "code",
      "source": [
        "\n",
        "# Encode 'customer_id' to numerical values\n",
        "label_encoder = LabelEncoder()\n",
        "df_resultado['customer_id'] = label_encoder.fit_transform(df_resultado['customer_id'])\n",
        "\n"
      ],
      "metadata": {
        "id": "BmEokT59eQLx"
      },
      "execution_count": null,
      "outputs": []
    },
    {
      "cell_type": "code",
      "source": [
        "df_resultado.info()"
      ],
      "metadata": {
        "id": "pu_uddnFfvkN"
      },
      "execution_count": null,
      "outputs": []
    },
    {
      "cell_type": "code",
      "source": [
        "# Assume 'PurchasedYes' is the target column\n",
        "features = df_resultado.drop('PurchasedYes', axis=1)\n",
        "labels = df_resultado['PurchasedYes']"
      ],
      "metadata": {
        "id": "ph_CkZZgd_cw"
      },
      "execution_count": null,
      "outputs": []
    },
    {
      "cell_type": "code",
      "source": [
        "# Combine features and labels into a single dataset\n",
        "dataset = tf.data.Dataset.from_tensor_slices((features, labels))"
      ],
      "metadata": {
        "id": "By7Nd-szeBIA"
      },
      "execution_count": null,
      "outputs": []
    },
    {
      "cell_type": "code",
      "source": [
        "# Get the total size of the dataset\n",
        "#dataset_size = len(list(dataset))\n",
        "# Get the length of the dataset\n",
        "dataset_size = tf.data.experimental.cardinality(dataset).numpy()\n",
        "print(dataset_size)"
      ],
      "metadata": {
        "id": "C5i6r0iReD8M"
      },
      "execution_count": null,
      "outputs": []
    },
    {
      "cell_type": "code",
      "source": [
        "# Calculate the size for training and testing datasets\n",
        "train_size = int(0.8 * dataset_size)\n",
        "test_size = dataset_size - train_size"
      ],
      "metadata": {
        "id": "pPg-iE-BeFl5"
      },
      "execution_count": null,
      "outputs": []
    },
    {
      "cell_type": "code",
      "source": [
        "# Split the dataset into training and testing datasets\n",
        "train = dataset.take(train_size)\n",
        "test = dataset.skip(train_size)\n"
      ],
      "metadata": {
        "id": "Twx0__KJeHGG"
      },
      "execution_count": null,
      "outputs": []
    },
    {
      "cell_type": "code",
      "source": [
        "# Optional: Shuffle the training dataset\n",
        "train = train.shuffle(buffer_size=train_size, reshuffle_each_iteration=False)"
      ],
      "metadata": {
        "id": "2tfgicJReJge"
      },
      "execution_count": null,
      "outputs": []
    },
    {
      "cell_type": "code",
      "source": [
        "# Optional: Batch the datasets\n",
        "batch_size = 32\n",
        "train = train.batch(batch_size)\n",
        "test = test.batch(batch_size)"
      ],
      "metadata": {
        "id": "4R6qlhIPeLsg"
      },
      "execution_count": null,
      "outputs": []
    },
    {
      "cell_type": "code",
      "source": [
        "# Example: Print the first few elements of the training dataset\n",
        "'''\n",
        "#\n",
        "for features, label in train.take(1):\n",
        "    print(\"Training features:\", features.numpy())\n",
        "    print(\"Training labels:\", label.numpy())\n",
        "\n",
        "# Example: Print the first few elements of the testing dataset\n",
        "for features, label in test.take(1):\n",
        "    print(\"\\nTesting features:\", features.numpy())\n",
        "    print(\"Testing labels:\", label.numpy())\n",
        "\n",
        "'''"
      ],
      "metadata": {
        "id": "kxADUr-OeNd0"
      },
      "execution_count": null,
      "outputs": []
    },
    {
      "cell_type": "code",
      "source": [
        "print(type(train))\n",
        "print(type(test))"
      ],
      "metadata": {
        "id": "TAKBs8zQNbaU"
      },
      "execution_count": null,
      "outputs": []
    },
    {
      "cell_type": "code",
      "source": [
        "train"
      ],
      "metadata": {
        "id": "fxbzEg4NPU4D"
      },
      "execution_count": null,
      "outputs": []
    },
    {
      "cell_type": "code",
      "source": [
        "test"
      ],
      "metadata": {
        "id": "Rkrujn_QjXWD"
      },
      "execution_count": null,
      "outputs": []
    },
    {
      "cell_type": "code",
      "source": [
        "unique_article_ids_int = df_resultado['article_id'].unique()\n",
        "\n",
        "\n",
        "unique_article_ids = unique_article_ids_int.astype(int)\n",
        "unique_customer_ids = df_resultado['customer_id'].unique()"
      ],
      "metadata": {
        "id": "AcgGFfgRfGku"
      },
      "execution_count": null,
      "outputs": []
    },
    {
      "cell_type": "code",
      "source": [
        "print(len(unique_article_ids))\n",
        "print(type(unique_article_ids[0]))"
      ],
      "metadata": {
        "id": "r0wBq1EReipJ"
      },
      "execution_count": null,
      "outputs": []
    },
    {
      "cell_type": "code",
      "source": [
        "articles_total.info()"
      ],
      "metadata": {
        "id": "TwhlVlSQID72"
      },
      "execution_count": null,
      "outputs": []
    },
    {
      "cell_type": "code",
      "source": [
        "'''\n",
        "HELP TO IDENTIFY DUPLICATES\n",
        "import pandas as pd\n",
        "\n",
        "# Supongamos que tienes un DataFrame llamado 'df' con columnas 'article_id' y 'prod_name'\n",
        "# df = ...\n",
        "\n",
        "# Verificar si hay nombres de productos duplicados con diferentes article_id\n",
        "duplicates = articles_total[articles_total.duplicated(subset=['prod_name'], keep=False)]\n",
        "\n",
        "if duplicates.empty:\n",
        "    print(\"No hay nombres de productos duplicados con diferentes article_id.\")\n",
        "else:\n",
        "    print(\"Nombres de productos duplicados con diferentes article_id:\")\n",
        "    print(duplicates[['article_id', 'prod_name']])\n",
        "'''"
      ],
      "metadata": {
        "id": "1ZCWJSTCLAFJ"
      },
      "execution_count": null,
      "outputs": []
    },
    {
      "cell_type": "code",
      "source": [
        "# Create a dictionary for mapping IDs to names\n",
        "id_to_name_mapping = dict(zip(articles_total['article_id'], articles_total['prod_name']))\n",
        "\n",
        "# Get the first key-value pair\n",
        "first_key, first_value = next(iter(id_to_name_mapping.items()))\n",
        "\n",
        "# Print key and value\n",
        "print(\"First key:\", first_key)\n",
        "print(\"First key Type:\", type(first_key))\n",
        "print(\"First value:\", first_value)\n",
        "\n",
        "\n",
        "\n",
        "# Use the mapping to get names for the given article IDs\n",
        "unique_article_names = np.array([id_to_name_mapping[article_id] for article_id in unique_article_ids])\n",
        "\n",
        "print(len(unique_article_names))\n",
        "print(unique_article_names[0])"
      ],
      "metadata": {
        "id": "n26UDq8hHu-H"
      },
      "execution_count": null,
      "outputs": []
    },
    {
      "cell_type": "code",
      "source": [
        "unique_article_names = np.unique(unique_article_names)\n",
        "print(unique_article_names[0])\n",
        "print(len(unique_article_names))\n"
      ],
      "metadata": {
        "id": "8mc2a1RkKXz8"
      },
      "execution_count": null,
      "outputs": []
    },
    {
      "cell_type": "code",
      "source": [
        "print(unique_customer_ids)\n",
        "print(type(unique_customer_ids[0]))"
      ],
      "metadata": {
        "id": "fMSJQejKeiyM"
      },
      "execution_count": null,
      "outputs": []
    },
    {
      "cell_type": "code",
      "source": [
        "unique_customer_ids_str = unique_customer_ids.astype(str)\n",
        "print(unique_customer_ids_str)\n",
        "print(type(unique_customer_ids_str[0]))"
      ],
      "metadata": {
        "id": "8rinAarKMpbe"
      },
      "execution_count": null,
      "outputs": []
    },
    {
      "cell_type": "markdown",
      "metadata": {
        "id": "eCi-seR86qqa"
      },
      "source": [
        "## A multi-task model\n",
        "\n",
        "There are two critical parts to multi-task recommenders:\n",
        "\n",
        "1. They optimize for two or more objectives, and so have two or more losses.\n",
        "2. They share variables between the tasks, allowing for transfer learning.\n",
        "\n",
        "In this tutorial, we will define our models as before, but instead of having  a single task, we will have two tasks: one that predicts ratings, and one that predicts movie watches."
      ]
    },
    {
      "cell_type": "markdown",
      "metadata": {
        "id": "AXHrk_SLzKCM"
      },
      "source": [
        "The user and movie models are as before:\n",
        "\n",
        "```python\n",
        "user_model = tf.keras.Sequential([\n",
        "  tf.keras.layers.StringLookup(\n",
        "      vocabulary=unique_user_ids, mask_token=None),\n",
        "  # We add 1 to account for the unknown token.\n",
        "  tf.keras.layers.Embedding(len(unique_user_ids) + 1, embedding_dimension)\n",
        "])\n",
        "\n",
        "movie_model = tf.keras.Sequential([\n",
        "  tf.keras.layers.StringLookup(\n",
        "      vocabulary=unique_movie_titles, mask_token=None),\n",
        "  tf.keras.layers.Embedding(len(unique_movie_titles) + 1, embedding_dimension)\n",
        "])\n",
        "```"
      ]
    },
    {
      "cell_type": "markdown",
      "metadata": {
        "id": "cWCwkE5z8QBe"
      },
      "source": [
        "However, now we will have two tasks. The first is the rating task:\n",
        "\n",
        "```python\n",
        "tfrs.tasks.Ranking(\n",
        "    loss=tf.keras.losses.MeanSquaredError(),\n",
        "    metrics=[tf.keras.metrics.RootMeanSquaredError()],\n",
        ")\n",
        "```"
      ]
    },
    {
      "cell_type": "markdown",
      "metadata": {
        "id": "xrgQIXEm8UWf"
      },
      "source": [
        "Its goal is to predict the ratings as accurately as possible.\n",
        "\n",
        "The second is the retrieval task:\n",
        "\n",
        "```python\n",
        "tfrs.tasks.Retrieval(\n",
        "    metrics=tfrs.metrics.FactorizedTopK(\n",
        "        candidates=movies.batch(128)\n",
        "    )\n",
        ")\n",
        "```"
      ]
    },
    {
      "cell_type": "markdown",
      "metadata": {
        "id": "SCNrv7_gakmF"
      },
      "source": [
        "As before, this task's goal is to predict which movies the user will or will not watch."
      ]
    },
    {
      "cell_type": "markdown",
      "metadata": {
        "id": "DSWw3xuq8mGh"
      },
      "source": [
        "### Putting it together\n",
        "\n",
        "We put it all together in a model class.\n",
        "\n",
        "The new component here is that - since we have two tasks and two losses - we need to decide on how important each loss is. We can do this by giving each of the losses a weight, and treating these weights as hyperparameters. If we assign a large loss weight to the rating task, our model is going to focus on predicting ratings (but still use some information from the retrieval task); if we assign a large loss weight to the retrieval task, it will focus on retrieval instead."
      ]
    },
    {
      "cell_type": "code",
      "source": [
        "print(type(unique_article_names[0]))\n",
        "print(type(unique_customer_ids[0]))"
      ],
      "metadata": {
        "id": "DFZxOGm5GPfM"
      },
      "execution_count": null,
      "outputs": []
    },
    {
      "cell_type": "code",
      "execution_count": null,
      "metadata": {
        "id": "YFSkOAMgzU0K"
      },
      "outputs": [],
      "source": [
        "class MovielensModel(tfrs.models.Model):\n",
        "\n",
        "  def __init__(self, rating_weight: float, retrieval_weight: float) -> None:\n",
        "    # We take the loss weights in the constructor: this allows us to instantiate\n",
        "    # several model objects with different loss weights.\n",
        "\n",
        "    super().__init__()\n",
        "\n",
        "    embedding_dimension = 32\n",
        "\n",
        "    # User and movie models.\n",
        "    self.movie_model: tf.keras.layers.Layer = tf.keras.Sequential([\n",
        "      tf.keras.layers.StringLookup(\n",
        "        vocabulary=unique_article_names, mask_token=None),\n",
        "      tf.keras.layers.Embedding(len(unique_article_names) + 1, embedding_dimension)\n",
        "    ])\n",
        "\n",
        "    self.user_model: tf.keras.layers.Layer = tf.keras.Sequential([\n",
        "      tf.keras.layers.StringLookup(\n",
        "        vocabulary=unique_customer_ids_str, mask_token=None),\n",
        "      tf.keras.layers.Embedding(len(unique_customer_ids) + 1, embedding_dimension)\n",
        "    ])\n",
        "\n",
        "\n",
        "    # A small model to take in user and movie embeddings and predict ratings.\n",
        "    # We can make this as complicated as we want as long as we output a scalar\n",
        "    # as our prediction.\n",
        "    self.rating_model = tf.keras.Sequential([\n",
        "        tf.keras.layers.Dense(256, activation=\"relu\"),\n",
        "        tf.keras.layers.Dense(128, activation=\"relu\"),\n",
        "        tf.keras.layers.Dense(1),\n",
        "    ])\n",
        "\n",
        "    # The tasks.\n",
        "    self.rating_task: tf.keras.layers.Layer = tfrs.tasks.Ranking(\n",
        "        loss=tf.keras.losses.MeanSquaredError(),\n",
        "        metrics=[tf.keras.metrics.RootMeanSquaredError()],\n",
        "    )\n",
        "    self.retrieval_task: tf.keras.layers.Layer = tfrs.tasks.Retrieval(\n",
        "        metrics=tfrs.metrics.FactorizedTopK(\n",
        "            #candidates=movie.batch(128).map(self.movie_model)\n",
        "            candidates=unique_article_ids\n",
        "        )\n",
        "    )\n",
        "\n",
        "    # The loss weights.\n",
        "    self.rating_weight = rating_weight\n",
        "    self.retrieval_weight = retrieval_weight\n",
        "\n",
        "  def call(self, features: Dict[Text, tf.Tensor]) -> tf.Tensor:\n",
        "    # We pick out the user features and pass them into the user model.\n",
        "    user_embeddings = self.user_model(features[\"customer_id\"])\n",
        "    # And pick out the movie features and pass them into the movie model.\n",
        "    movie_embeddings = self.movie_model(features[\"article_id\"])\n",
        "\n",
        "    return (\n",
        "        user_embeddings,\n",
        "        movie_embeddings,\n",
        "        # We apply the multi-layered rating model to a concatentation of\n",
        "        # user and movie embeddings.\n",
        "        self.rating_model(\n",
        "            tf.concat([user_embeddings, movie_embeddings], axis=1)\n",
        "        ),\n",
        "    )\n",
        "\n",
        "  def compute_loss(self, features: Dict[Text, tf.Tensor], training=False) -> tf.Tensor:\n",
        "\n",
        "    ratings = features.pop(\"PurchasedYes\")\n",
        "\n",
        "    user_embeddings, movie_embeddings, rating_predictions = self(features)\n",
        "\n",
        "    # We compute the loss for each task.\n",
        "    rating_loss = self.rating_task(\n",
        "        labels=ratings,\n",
        "        predictions=rating_predictions,\n",
        "    )\n",
        "    retrieval_loss = self.retrieval_task(user_embeddings, movie_embeddings)\n",
        "\n",
        "    # And combine them using the loss weights.\n",
        "    return (self.rating_weight * rating_loss\n",
        "            + self.retrieval_weight * retrieval_loss)"
      ]
    },
    {
      "cell_type": "markdown",
      "metadata": {
        "id": "ngvn-c0b8lc2"
      },
      "source": [
        "### Rating-specialized model\n",
        "\n",
        "Depending on the weights we assign, the model will encode a different balance of the tasks. Let's start with a model that only considers ratings."
      ]
    },
    {
      "cell_type": "code",
      "execution_count": null,
      "metadata": {
        "id": "NNfB6rYL0VrS"
      },
      "outputs": [],
      "source": [
        "model = MovielensModel(rating_weight=1.0, retrieval_weight=0.0)\n",
        "model.compile(optimizer=tf.keras.optimizers.Adagrad(0.1))"
      ]
    },
    {
      "cell_type": "code",
      "execution_count": null,
      "metadata": {
        "id": "I6kjfF1j0iZR"
      },
      "outputs": [],
      "source": [
        "cached_train = train.shuffle(100_000).batch(8192).cache()\n",
        "cached_test = test.batch(4096).cache()\n",
        "print(type(cached_train))\n",
        "print(type(cached_test))"
      ]
    },
    {
      "cell_type": "code",
      "execution_count": null,
      "metadata": {
        "id": "6NWadH1q0c_T"
      },
      "outputs": [],
      "source": [
        "model.fit(cached_train, epochs=3)\n",
        "metrics = model.evaluate(cached_test, return_dict=True)\n",
        "\n",
        "print(f\"Retrieval top-100 accuracy: {metrics['factorized_top_k/top_100_categorical_accuracy']:.3f}.\")\n",
        "print(f\"Ranking RMSE: {metrics['root_mean_squared_error']:.3f}.\")"
      ]
    },
    {
      "cell_type": "markdown",
      "metadata": {
        "id": "lENViv04-i0T"
      },
      "source": [
        "The model does OK on predicting ratings (with an RMSE of around 1.11), but performs poorly at predicting which movies will be watched or not: its accuracy at 100 is almost 4 times worse than a model trained solely to predict watches."
      ]
    },
    {
      "cell_type": "markdown",
      "metadata": {
        "id": "yPYd9LtE-4Fm"
      },
      "source": [
        "### Retrieval-specialized model\n",
        "\n",
        "Let's now try a model that focuses on retrieval only."
      ]
    },
    {
      "cell_type": "code",
      "execution_count": null,
      "metadata": {
        "id": "BfnkGd2G--Qt"
      },
      "outputs": [],
      "source": [
        "model = MovielensModel(rating_weight=0.0, retrieval_weight=1.0)\n",
        "model.compile(optimizer=tf.keras.optimizers.Adagrad(0.1))"
      ]
    },
    {
      "cell_type": "code",
      "execution_count": null,
      "metadata": {
        "id": "JCCBdM7U_B11"
      },
      "outputs": [],
      "source": [
        "model.fit(cached_train, epochs=3)\n",
        "metrics = model.evaluate(cached_test, return_dict=True)\n",
        "\n",
        "print(f\"Retrieval top-100 accuracy: {metrics['factorized_top_k/top_100_categorical_accuracy']:.3f}.\")\n",
        "print(f\"Ranking RMSE: {metrics['root_mean_squared_error']:.3f}.\")"
      ]
    },
    {
      "cell_type": "markdown",
      "metadata": {
        "id": "YjM7j7eY_jPh"
      },
      "source": [
        "We get the opposite result: a model that does well on retrieval, but poorly on predicting ratings."
      ]
    },
    {
      "cell_type": "markdown",
      "metadata": {
        "id": "hOFwjUus_pLU"
      },
      "source": [
        "### Joint model\n",
        "\n",
        "Let's now train a model that assigns positive weights to both tasks."
      ]
    },
    {
      "cell_type": "code",
      "execution_count": null,
      "metadata": {
        "id": "7xyDbNMf_t8a"
      },
      "outputs": [],
      "source": [
        "model = MovielensModel(rating_weight=1.0, retrieval_weight=1.0)\n",
        "model.compile(optimizer=tf.keras.optimizers.Adagrad(0.1))"
      ]
    },
    {
      "cell_type": "code",
      "execution_count": null,
      "metadata": {
        "id": "2pZmM_ub_uEO"
      },
      "outputs": [],
      "source": [
        "model.fit(cached_train, epochs=3)\n",
        "metrics = model.evaluate(cached_test, return_dict=True)\n",
        "\n",
        "print(f\"Retrieval top-100 accuracy: {metrics['factorized_top_k/top_100_categorical_accuracy']:.3f}.\")\n",
        "print(f\"Ranking RMSE: {metrics['root_mean_squared_error']:.3f}.\")"
      ]
    },
    {
      "cell_type": "markdown",
      "metadata": {
        "id": "Ni_rkOsaB3f9"
      },
      "source": [
        "The result is a model that performs roughly as well on both tasks as each specialized model.\n",
        "\n",
        "### Making prediction\n",
        "\n",
        "We can use the trained multitask model to get trained user and movie embeddings, as well as the predicted rating:"
      ]
    },
    {
      "cell_type": "code",
      "execution_count": null,
      "metadata": {
        "id": "SXXh-PLaH_Vn"
      },
      "outputs": [],
      "source": [
        "trained_movie_embeddings, trained_user_embeddings, predicted_rating = model({\n",
        "      \"user_id\": np.array([\"42\"]),\n",
        "      \"movie_title\": np.array([\"Dances with Wolves (1990)\"])\n",
        "  })\n",
        "print(\"Predicted rating:\")\n",
        "print(predicted_rating)"
      ]
    },
    {
      "cell_type": "markdown",
      "metadata": {
        "id": "FADp0pUWINTD"
      },
      "source": [
        "While the results here do not show a clear accuracy benefit from a joint model in this case, multi-task learning is in general an extremely useful tool. We can expect better results when we can transfer knowledge from a data-abundant task (such as clicks) to a closely related data-sparse task (such as purchases)."
      ]
    },
    {
      "cell_type": "code",
      "execution_count": null,
      "metadata": {
        "id": "I7xYDRHQIQvm"
      },
      "outputs": [],
      "source": []
    }
  ],
  "metadata": {
    "colab": {
      "private_outputs": true,
      "provenance": [],
      "machine_shape": "hm",
      "gpuType": "T4",
      "include_colab_link": true
    },
    "kernelspec": {
      "display_name": "Python 3",
      "name": "python3"
    },
    "accelerator": "GPU"
  },
  "nbformat": 4,
  "nbformat_minor": 0
}